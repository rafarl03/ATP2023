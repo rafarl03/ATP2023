{
 "cells": [
  {
   "cell_type": "markdown",
   "metadata": {},
   "source": []
  },
  {
   "cell_type": "code",
   "execution_count": 19,
   "metadata": {},
   "outputs": [
    {
     "name": "stdout",
     "output_type": "stream",
     "text": [
      "[150, [], 'Twilight']\n",
      "[150, [35], 'Twilight']\n"
     ]
    }
   ],
   "source": [
    "# Cinema maps a set of Salas\n",
    "cinema = {}\n",
    "\n",
    "# Sala is a data structure that lists 3 things:\n",
    "#   - Numero de lugares:            int\n",
    "#   - Lista de Lugares vendidos:    [int]\n",
    "#   - Filme em exibicao:            String\n",
    "sala_1 = [150, [], \"Twilight\"]\n",
    "sala_2 = [200, [], \"Hannibal\"]\n",
    "\n",
    "cinema[\"sala1\"] = sala_1\n",
    "cinema[\"sala2\"] = sala_2\n",
    "\n",
    "print (cinema[\"sala1\"])\n",
    "\n",
    "cinema[\"sala1\"][1].append(35)\n",
    "\n",
    "print (cinema[\"sala1\"])\n",
    "\n",
    "if cinema[\"sala1\"][1].get(35) not null:\n",
    "   print (\"Indisponivel\")\n",
    "\n",
    "if cinema[\"sala1\"][1].get(20) not null:\n",
    "   print (\"Disponivel\")\n",
    "\n",
    "\n",
    "\n",
    "\n"
   ]
  },
  {
   "cell_type": "code",
   "execution_count": null,
   "metadata": {},
   "outputs": [],
   "source": []
  }
 ],
 "metadata": {
  "kernelspec": {
   "display_name": "Python 3",
   "language": "python",
   "name": "python3"
  },
  "language_info": {
   "codemirror_mode": {
    "name": "ipython",
    "version": 3
   },
   "file_extension": ".py",
   "mimetype": "text/x-python",
   "name": "python",
   "nbconvert_exporter": "python",
   "pygments_lexer": "ipython3",
   "version": "3.11.5"
  }
 },
 "nbformat": 4,
 "nbformat_minor": 2
}
