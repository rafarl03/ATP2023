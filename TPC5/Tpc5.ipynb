{
 "cells": [
  {
   "cell_type": "code",
   "execution_count": 19,
   "metadata": {},
   "outputs": [
    {
     "name": "stdout",
     "output_type": "stream",
     "text": [
      "[150, [], 'Twilight']\n",
      "[150, [35], 'Twilight']\n"
     ]
    }
   ],
   "source": [
    "# Modelo:\n",
    "#   Cinema = [Sala]\n",
    "#Sala = [nlugares, Vendidos, filme]\n",
    "#nlugares = Int\n",
    "#filme = String \n",
    "#Vendidos = [Int]\n",
    "\n",
    "\n",
    "def existe_sala(cinema, sala):\n",
    "    nome = sala \n",
    "    cond = False\n",
    "    for sala in cinema:\n",
    "        if sala == nome:\n",
    "            cond = True\n",
    "\n",
    "\n",
    "def inserir_sala( cinema, sala ):\n",
    "    if not existe_sala(cinema, sala):\n",
    "        cinema.append(sala)\n",
    "    return cinema\n",
    "\n",
    "def listar(cinema):\n",
    "    for sala in cinema:\n",
    "        print(sala[2])\n",
    "\n",
    "def disponivel(cinema, filme, lugar):\n",
    "    cond = True\n",
    "    for sala in cinema:\n",
    "        if sala[2] == filme:\n",
    "            if lugar in sala[1]:\n",
    "                cond = False\n",
    "    return cond\n",
    "\n",
    "def vende_bilhete(cinema, filme, lugar):\n",
    "    if disponivel(cinema, filme, lugar) == True:\n",
    "        cinema(lugar)\n",
    "    else: print(\"ups\")\n",
    "\n",
    "cinema= []\n",
    "sala1=[200, [], \"Harry Potter\"]\n",
    "sala2=[150, [], \"Twilight\"]\n",
    "sala3=[200, [], \"Hannibal\"]\n",
    "inserir_sala(cinema, sala1)\n",
    "inserir_sala(cinema, sala2)\n",
    "inserir_sala(cinema, sala3)\n",
    "print(cinema)\n",
    "listar(cinema)\n",
    "print(disponivel(cinema, \"Twilight\", 67))"
   ]
  }
 ],
 "metadata": {
  "kernelspec": {
   "display_name": "Python 3",
   "language": "python",
   "name": "python3"
  },
  "language_info": {
   "codemirror_mode": {
    "name": "ipython",
    "version": 3
   },
   "file_extension": ".py",
   "mimetype": "text/x-python",
   "name": "python",
   "nbconvert_exporter": "python",
   "pygments_lexer": "ipython3",
   "version": "3.11.5"
  }
 },
 "nbformat": 4,
 "nbformat_minor": 2
}
